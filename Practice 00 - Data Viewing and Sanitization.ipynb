{
 "cells": [
  {
   "cell_type": "code",
   "execution_count": 1,
   "metadata": {
    "collapsed": true
   },
   "outputs": [],
   "source": [
    "import pandas as pd\n",
    "import numpy as np\n",
    "import matplotlib.pyplot as plt\n",
    "import glob"
   ]
  },
  {
   "cell_type": "code",
   "execution_count": 2,
   "metadata": {
    "collapsed": true
   },
   "outputs": [],
   "source": [
    "df = pd.DataFrame()\n",
    "df = df.from_csv('tsla.csv')"
   ]
  },
  {
   "cell_type": "code",
   "execution_count": 3,
   "metadata": {
    "collapsed": false
   },
   "outputs": [
    {
     "data": {
      "text/html": [
       "<div>\n",
       "<table border=\"1\" class=\"dataframe\">\n",
       "  <thead>\n",
       "    <tr style=\"text-align: right;\">\n",
       "      <th></th>\n",
       "      <th>close</th>\n",
       "      <th>volume</th>\n",
       "      <th>open</th>\n",
       "      <th>high</th>\n",
       "      <th>low</th>\n",
       "    </tr>\n",
       "  </thead>\n",
       "  <tbody>\n",
       "    <tr>\n",
       "      <th>count</th>\n",
       "      <td>1803.000000</td>\n",
       "      <td>1.803000e+03</td>\n",
       "      <td>1803.000000</td>\n",
       "      <td>1803.000000</td>\n",
       "      <td>1803.000000</td>\n",
       "    </tr>\n",
       "    <tr>\n",
       "      <th>mean</th>\n",
       "      <td>144.444698</td>\n",
       "      <td>4.439461e+06</td>\n",
       "      <td>144.466594</td>\n",
       "      <td>146.920054</td>\n",
       "      <td>141.847566</td>\n",
       "    </tr>\n",
       "    <tr>\n",
       "      <th>std</th>\n",
       "      <td>102.990194</td>\n",
       "      <td>4.281379e+06</td>\n",
       "      <td>103.019791</td>\n",
       "      <td>104.429067</td>\n",
       "      <td>101.438157</td>\n",
       "    </tr>\n",
       "    <tr>\n",
       "      <th>min</th>\n",
       "      <td>15.800000</td>\n",
       "      <td>1.184140e+05</td>\n",
       "      <td>16.140000</td>\n",
       "      <td>16.630000</td>\n",
       "      <td>14.980000</td>\n",
       "    </tr>\n",
       "    <tr>\n",
       "      <th>25%</th>\n",
       "      <td>30.760000</td>\n",
       "      <td>1.267700e+06</td>\n",
       "      <td>30.605000</td>\n",
       "      <td>31.420000</td>\n",
       "      <td>29.885000</td>\n",
       "    </tr>\n",
       "    <tr>\n",
       "      <th>50%</th>\n",
       "      <td>178.560000</td>\n",
       "      <td>3.427251e+06</td>\n",
       "      <td>178.000000</td>\n",
       "      <td>181.730000</td>\n",
       "      <td>173.531000</td>\n",
       "    </tr>\n",
       "    <tr>\n",
       "      <th>75%</th>\n",
       "      <td>227.805000</td>\n",
       "      <td>5.963226e+06</td>\n",
       "      <td>227.975000</td>\n",
       "      <td>231.385000</td>\n",
       "      <td>224.120000</td>\n",
       "    </tr>\n",
       "    <tr>\n",
       "      <th>max</th>\n",
       "      <td>383.450000</td>\n",
       "      <td>3.710324e+07</td>\n",
       "      <td>386.690000</td>\n",
       "      <td>386.990000</td>\n",
       "      <td>379.345000</td>\n",
       "    </tr>\n",
       "  </tbody>\n",
       "</table>\n",
       "</div>"
      ],
      "text/plain": [
       "             close        volume         open         high          low\n",
       "count  1803.000000  1.803000e+03  1803.000000  1803.000000  1803.000000\n",
       "mean    144.444698  4.439461e+06   144.466594   146.920054   141.847566\n",
       "std     102.990194  4.281379e+06   103.019791   104.429067   101.438157\n",
       "min      15.800000  1.184140e+05    16.140000    16.630000    14.980000\n",
       "25%      30.760000  1.267700e+06    30.605000    31.420000    29.885000\n",
       "50%     178.560000  3.427251e+06   178.000000   181.730000   173.531000\n",
       "75%     227.805000  5.963226e+06   227.975000   231.385000   224.120000\n",
       "max     383.450000  3.710324e+07   386.690000   386.990000   379.345000"
      ]
     },
     "execution_count": 3,
     "metadata": {},
     "output_type": "execute_result"
    }
   ],
   "source": [
    "df.describe()"
   ]
  },
  {
   "cell_type": "code",
   "execution_count": 4,
   "metadata": {
    "collapsed": false
   },
   "outputs": [
    {
     "data": {
      "text/plain": [
       "close     float64\n",
       "volume      int64\n",
       "open      float64\n",
       "high      float64\n",
       "low       float64\n",
       "dtype: object"
      ]
     },
     "execution_count": 4,
     "metadata": {},
     "output_type": "execute_result"
    }
   ],
   "source": [
    "df.dtypes"
   ]
  },
  {
   "cell_type": "code",
   "execution_count": 5,
   "metadata": {
    "collapsed": false
   },
   "outputs": [
    {
     "data": {
      "text/plain": [
       "DatetimeIndex(['2017-08-24', '2017-08-23', '2017-08-22', '2017-08-21',\n",
       "               '2017-08-18', '2017-08-17', '2017-08-16', '2017-08-15',\n",
       "               '2017-08-14', '2017-08-11',\n",
       "               ...\n",
       "               '2010-07-13', '2010-07-12', '2010-07-09', '2010-07-08',\n",
       "               '2010-07-07', '2010-07-06', '2010-07-02', '2010-07-01',\n",
       "               '2010-06-30', '2010-06-29'],\n",
       "              dtype='datetime64[ns]', name='date', length=1803, freq=None)"
      ]
     },
     "execution_count": 5,
     "metadata": {},
     "output_type": "execute_result"
    }
   ],
   "source": [
    "df.index\n"
   ]
  },
  {
   "cell_type": "code",
   "execution_count": 6,
   "metadata": {
    "collapsed": false
   },
   "outputs": [
    {
     "data": {
      "text/html": [
       "<div>\n",
       "<table border=\"1\" class=\"dataframe\">\n",
       "  <thead>\n",
       "    <tr style=\"text-align: right;\">\n",
       "      <th></th>\n",
       "      <th>close</th>\n",
       "      <th>volume</th>\n",
       "      <th>open</th>\n",
       "      <th>high</th>\n",
       "      <th>low</th>\n",
       "    </tr>\n",
       "    <tr>\n",
       "      <th>date</th>\n",
       "      <th></th>\n",
       "      <th></th>\n",
       "      <th></th>\n",
       "      <th></th>\n",
       "      <th></th>\n",
       "    </tr>\n",
       "  </thead>\n",
       "  <tbody>\n",
       "    <tr>\n",
       "      <th>2017-08-24</th>\n",
       "      <td>352.93</td>\n",
       "      <td>4571574</td>\n",
       "      <td>352.52</td>\n",
       "      <td>356.66</td>\n",
       "      <td>349.7400</td>\n",
       "    </tr>\n",
       "    <tr>\n",
       "      <th>2017-08-23</th>\n",
       "      <td>352.77</td>\n",
       "      <td>4941947</td>\n",
       "      <td>338.99</td>\n",
       "      <td>353.49</td>\n",
       "      <td>338.3041</td>\n",
       "    </tr>\n",
       "    <tr>\n",
       "      <th>2017-08-22</th>\n",
       "      <td>341.35</td>\n",
       "      <td>4314268</td>\n",
       "      <td>341.13</td>\n",
       "      <td>342.24</td>\n",
       "      <td>337.3725</td>\n",
       "    </tr>\n",
       "    <tr>\n",
       "      <th>2017-08-21</th>\n",
       "      <td>337.86</td>\n",
       "      <td>6489850</td>\n",
       "      <td>345.82</td>\n",
       "      <td>345.82</td>\n",
       "      <td>331.8500</td>\n",
       "    </tr>\n",
       "    <tr>\n",
       "      <th>2017-08-18</th>\n",
       "      <td>347.46</td>\n",
       "      <td>5390805</td>\n",
       "      <td>352.91</td>\n",
       "      <td>354.00</td>\n",
       "      <td>345.8000</td>\n",
       "    </tr>\n",
       "  </tbody>\n",
       "</table>\n",
       "</div>"
      ],
      "text/plain": [
       "             close   volume    open    high       low\n",
       "date                                                 \n",
       "2017-08-24  352.93  4571574  352.52  356.66  349.7400\n",
       "2017-08-23  352.77  4941947  338.99  353.49  338.3041\n",
       "2017-08-22  341.35  4314268  341.13  342.24  337.3725\n",
       "2017-08-21  337.86  6489850  345.82  345.82  331.8500\n",
       "2017-08-18  347.46  5390805  352.91  354.00  345.8000"
      ]
     },
     "execution_count": 6,
     "metadata": {},
     "output_type": "execute_result"
    }
   ],
   "source": [
    "df.head()"
   ]
  },
  {
   "cell_type": "code",
   "execution_count": 7,
   "metadata": {
    "collapsed": true
   },
   "outputs": [],
   "source": [
    "g = glob.glob('*.csv')"
   ]
  },
  {
   "cell_type": "code",
   "execution_count": 8,
   "metadata": {
    "collapsed": false
   },
   "outputs": [],
   "source": [
    "for i in g:\n",
    "    for row, index in df.iterrows():\n",
    "        if index['close'] < 0: \n",
    "            print('problemo close')\n",
    "        #print(index['volume'])\n",
    "        if index['volume'] < 0: \n",
    "            print('problemo volume')\n",
    "        if index['open'] < 0: \n",
    "            print('problemo open')\n",
    "        if index['high'] < 0: \n",
    "            print('problemo high')\n",
    "        if index['low'] < 0: \n",
    "            print('problemo low')"
   ]
  },
  {
   "cell_type": "code",
   "execution_count": null,
   "metadata": {
    "collapsed": true
   },
   "outputs": [],
   "source": []
  }
 ],
 "metadata": {
  "anaconda-cloud": {},
  "kernelspec": {
   "display_name": "Python [conda root]",
   "language": "python",
   "name": "conda-root-py"
  },
  "language_info": {
   "codemirror_mode": {
    "name": "ipython",
    "version": 3
   },
   "file_extension": ".py",
   "mimetype": "text/x-python",
   "name": "python",
   "nbconvert_exporter": "python",
   "pygments_lexer": "ipython3",
   "version": "3.5.2"
  }
 },
 "nbformat": 4,
 "nbformat_minor": 1
}
