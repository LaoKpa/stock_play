{
 "cells": [
  {
   "cell_type": "markdown",
   "metadata": {},
   "source": [
    "## Goal of this notebook\n",
    "We want to combine three of the features we have built so far: the price movement percentage of the previous day, the price movement percentage of the previous two days, and the prior day's relative volume.\n",
    "\n",
    "We will build models based on these features. \n",
    "\n",
    "Also, we will add something akin to the \"null hypothesis\" as a feature. This feature will just predict the overall probabilities of each category. The reason for including this is to make sure that the other features are not just better than each other, but also better than randomly selecting movements from the probability distribution by chance. \n",
    "\n",
    "Since we currently have only four models, we can test all models on random subsets of verification data, and output the model that performs the best on each subset. The amount of \"wins\" should give us a good idea how to weight the models for ensembling predictions."
   ]
  },
  {
   "cell_type": "markdown",
   "metadata": {},
   "source": [
    "#### Thoughts for future work\n",
    " - Can augment the scoring function to have a \"distance\" element. That is, the further away the actual category from the predicted category, the harsher the penalty. For example, if the actual category was big drop, predicting a big gain would be considered a worse prediction than predicting a small drop.\n",
    " - Can augment the scoring function to have a \"magnitude\" element. Predicting a small movement when there was a large movement is penalized."
   ]
  },
  {
   "cell_type": "code",
   "execution_count": 1,
   "metadata": {
    "collapsed": true
   },
   "outputs": [],
   "source": [
    "from stock_utils import *"
   ]
  },
  {
   "cell_type": "code",
   "execution_count": 2,
   "metadata": {},
   "outputs": [],
   "source": [
    "df = pd.DataFrame()\n",
    "df = df.from_csv('stock_data/spy.csv')\n",
    "\n",
    "daily_movements = get_price_movement_percentages(df)\n",
    "movement_categories = categorize_movements(daily_movements, n_cats=4)\n",
    "\n",
    "period_len = int(len(daily_movements) / 5)\n",
    "train_movement_categories = movement_categories[0:4*period_len]\n",
    "valid_movement_categories = movement_categories[4*period_len+1:5*period_len]\n",
    "\n",
    "train_two_day_movement_trends = get_trends(train_movement_categories, 2)\n",
    "train_three_day_movement_trends = get_trends(train_movement_categories, 3)\n",
    "\n",
    "valid_two_day_movement_trends = get_trends(valid_movement_categories, 2)\n",
    "valid_three_day_movement_trends = get_trends(valid_movement_categories, 3)\n",
    "\n",
    "## Volume\n",
    "relative_volumes = get_relative_volume(df, relative_period=20)\n",
    "train_volumes = relative_volumes[0:4*period_len]\n",
    "valid_volumes = relative_volumes[4*period_len+1:5*period_len]\n",
    "\n",
    "train_volume_categories = categorize_volumes(train_volumes)\n",
    "valid_volume_categories = categorize_volumes(valid_volumes)"
   ]
  },
  {
   "cell_type": "code",
   "execution_count": 22,
   "metadata": {},
   "outputs": [
    {
     "name": "stderr",
     "output_type": "stream",
     "text": [
      "/home/arno/anaconda3/lib/python3.5/site-packages/scipy/stats/stats.py:253: RuntimeWarning: The input array could not be properly checked for nan values. nan values will be ignored.\n",
      "  \"values. nan values will be ignored.\", RuntimeWarning)\n"
     ]
    },
    {
     "name": "stdout",
     "output_type": "stream",
     "text": [
      "One day model won 19064 times, or 19.06 percent of the time\n",
      "Two day model won 21133 times, or 21.13 percent of the time\n",
      "Three day model won 23956 times, or 23.96 percent of the time\n",
      "Volume day model won 19324 times, or 19.32 percent of the time\n",
      "Ensemble model won 16523 times, or 16.52 percent of the time\n"
     ]
    }
   ],
   "source": [
    "sample_size = 27\n",
    "one = OneDayModel(train_movement_categories)\n",
    "two = TwoDayModel(train_movement_categories)\n",
    "three = ThreeDayModel(train_movement_categories)\n",
    "two_volume = TwoDayVolumeModel(train_movement_categories, train_volume_categories)\n",
    "n_runs = 100000\n",
    "\n",
    "one_wins = 0\n",
    "two_wins = 0\n",
    "three_wins = 0\n",
    "two_volume_wins = 0\n",
    "ensemble_wins = 0\n",
    "\n",
    "for i in range(n_runs):\n",
    "    one_score = 0\n",
    "    two_score = 0\n",
    "    three_score = 0\n",
    "    two_volume_score = 0\n",
    "    ensemble_score = 0\n",
    "    \n",
    "    ## Generate a sample\n",
    "    sample_categories, sample_volumes = select_data_sample(valid_movement_categories, sample_size, data2=valid_volumes)\n",
    "    sample_volume_categories = categorize_volumes(sample_volumes)\n",
    "    \n",
    "    one_predictions = one.predict(sample_categories[1:])\n",
    "    two_predictions = two.predict(sample_categories[1:])\n",
    "    three_predictions = three.predict(sample_categories[0:]) ## Needs an extra category in the beginning\n",
    "    two_volume_predictions = two_volume.predict(sample_volume_categories[1:])\n",
    "\n",
    "    for i in range(len(sample_categories) - 2):\n",
    "        if (sample_categories[i+2] == one_predictions[i]):\n",
    "            one_score += 1\n",
    "        if (sample_categories[i+2] == two_predictions[i]):\n",
    "            two_score += 1\n",
    "        if (sample_categories[i+2] == three_predictions[i]):\n",
    "            three_score += 1\n",
    "        if (sample_categories[i+2] == two_volume_predictions[i]):\n",
    "            two_volume_score += 1\n",
    "        \n",
    "        mode = stats.mode([three_predictions[i], two_predictions[i], two_volume_predictions[i], one_predictions[i]])[0][0]\n",
    "        ensemble_prediction = mode\n",
    "        if (sample_categories[i+2] == ensemble_prediction):\n",
    "            ensemble_score += 1\n",
    "\n",
    "    together = np.array([one_score, two_score, three_score, two_volume_score, ensemble_score])\n",
    "    winner = np.argwhere(together == np.amax(together)).flatten()\n",
    "    #print(len(winner))\n",
    "    if len(winner) > 1:\n",
    "        winner = np.random.choice(winner)\n",
    "                   \n",
    "    if winner == 0:\n",
    "        one_wins += 1\n",
    "        #print('One won, score is '+ str(one_score))\n",
    "    elif winner == 1:\n",
    "        two_wins += 1\n",
    "        #print('Two won, score is '+ str(two_score))\n",
    "    elif winner == 2:\n",
    "        three_wins += 1\n",
    "        #print(three_score)\n",
    "    elif winner == 3:\n",
    "        two_volume_wins += 1\n",
    "        #print(two_volume_score)\n",
    "        \n",
    "    elif winner == 4:\n",
    "        ensemble_wins += 1\n",
    "        #print(ensemble_score)\n",
    "    \n",
    "print('One day model won ' + str(one_wins) + ' times, or ' \n",
    "      + str('{0:.2f}'.format(100*one_wins/n_runs)) + ' percent of the time')\n",
    "print('Two day model won ' + str(two_wins) + ' times, or ' \n",
    "      + str('{0:.2f}'.format(100*two_wins/n_runs)) + ' percent of the time')\n",
    "print('Three day model won ' + str(three_wins) + ' times, or ' \n",
    "      + str('{0:.2f}'.format(100*three_wins/n_runs)) + ' percent of the time')\n",
    "print('Volume day model won ' + str(two_volume_wins) + ' times, or ' \n",
    "      + str('{0:.2f}'.format(100*two_volume_wins/n_runs)) + ' percent of the time')\n",
    "print('Ensemble model won ' + str(ensemble_wins) + ' times, or ' \n",
    "      + str('{0:.2f}'.format(100*ensemble_wins/n_runs)) + ' percent of the time')"
   ]
  },
  {
   "cell_type": "markdown",
   "metadata": {},
   "source": [
    "### For whatever reason, the ensemble does not perform well."
   ]
  }
 ],
 "metadata": {
  "kernelspec": {
   "display_name": "Python 3",
   "language": "python",
   "name": "python3"
  },
  "language_info": {
   "codemirror_mode": {
    "name": "ipython",
    "version": 3
   },
   "file_extension": ".py",
   "mimetype": "text/x-python",
   "name": "python",
   "nbconvert_exporter": "python",
   "pygments_lexer": "ipython3",
   "version": "3.5.3"
  }
 },
 "nbformat": 4,
 "nbformat_minor": 2
}
