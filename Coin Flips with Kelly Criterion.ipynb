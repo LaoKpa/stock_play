{
 "cells": [
  {
   "cell_type": "markdown",
   "metadata": {},
   "source": [
    "## Goal of this notebook\n",
    "Given certain **odds**, how much money are we likely to end up if we start with **starting_sum** dollars, bet according to the Kelly criterion, and do **n_bets** bets. Do **n_trials** trials and plot the results.\n",
    "\n",
    "Note: We will consider 0 an absorbing state. That is, if you hit 0 dollars, you are stuck there.\n",
    "\n",
    "Inspired by this [question](https://math.stackexchange.com/questions/171578/coin-tosses-until-im-out-of-money)  \n",
    "[Kelly Criterion](https://en.wikipedia.org/wiki/Kelly_criterion)"
   ]
  },
  {
   "cell_type": "code",
   "execution_count": 1,
   "metadata": {
    "collapsed": true
   },
   "outputs": [],
   "source": [
    "import random"
   ]
  },
  {
   "cell_type": "code",
   "execution_count": 4,
   "metadata": {
    "collapsed": true
   },
   "outputs": [],
   "source": [
    "n_trials = 1000     ## Number of trials to gather statistics and plot\n",
    "\n",
    "n_bets = 1000       ## Number of bets\n",
    "odds = .51          ## Probability of winning\n",
    "starting_sum = 1000 ## Starting amount of money in dollars\n",
    "\n",
    "cost_of_bet = 0     ## Analagous to round-trip commission for a stock trade"
   ]
  },
  {
   "cell_type": "code",
   "execution_count": null,
   "metadata": {
    "collapsed": true
   },
   "outputs": [],
   "source": [
    "def kelly_bet(total):\n",
    "    \"\"\"TODO\"\"\"\n",
    "    f_prime = 0\n",
    "    return f_prime"
   ]
  },
  {
   "cell_type": "code",
   "execution_count": null,
   "metadata": {
    "collapsed": true
   },
   "outputs": [],
   "source": [
    "run_trials(n_trials, odds, starting_sum)"
   ]
  }
 ],
 "metadata": {
  "anaconda-cloud": {},
  "kernelspec": {
   "display_name": "Python [conda root]",
   "language": "python",
   "name": "conda-root-py"
  },
  "language_info": {
   "codemirror_mode": {
    "name": "ipython",
    "version": 3
   },
   "file_extension": ".py",
   "mimetype": "text/x-python",
   "name": "python",
   "nbconvert_exporter": "python",
   "pygments_lexer": "ipython3",
   "version": "3.5.2"
  }
 },
 "nbformat": 4,
 "nbformat_minor": 1
}
