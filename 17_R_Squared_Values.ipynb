{
 "cells": [
  {
   "cell_type": "markdown",
   "metadata": {},
   "source": [
    "## Goal of this Notebook\n",
    "Look at the R value of the two and three day linear models"
   ]
  },
  {
   "cell_type": "code",
   "execution_count": 1,
   "metadata": {
    "collapsed": true
   },
   "outputs": [],
   "source": [
    "from stock_utils import *"
   ]
  },
  {
   "cell_type": "markdown",
   "metadata": {},
   "source": [
    "### 1. Define Linear Models "
   ]
  },
  {
   "cell_type": "code",
   "execution_count": 2,
   "metadata": {
    "collapsed": true
   },
   "outputs": [],
   "source": [
    "class ThreeDayLinearModel:\n",
    "    trained=False\n",
    "    verbose=False\n",
    "    mean_movements_after_category = {}\n",
    "    \n",
    "    def __init__(self, data=None):\n",
    "        if self.verbose: print('Initializing Model...')\n",
    "        if data is not None:\n",
    "            self.train(data)\n",
    "        else:\n",
    "            print('Inintializing without training data')\n",
    "            \n",
    "    def __str__(self):\n",
    "        return 'Three Day Linear Model'\n",
    "\n",
    "    def train(self, movement_categories, daily_movements):\n",
    "        if self.verbose: print('Training...')\n",
    "        three_day_trends_linear = get_trends_linear(movement_categories, daily_movements, 3)\n",
    "        all_cats = ['bd', 'sd', 'sg', 'bg']\n",
    "        movements_after_category = []\n",
    "        for cat1 in all_cats:\n",
    "            for cat2 in all_cats:\n",
    "                movements_after_category.append(get_movements_after_trend(cat1 + '_' + cat2, three_day_trends_linear))\n",
    "            \n",
    "        self.mean_movements_after_category['bd_bd'] = np.mean(np.asarray(movements_after_category[0]))\n",
    "        self.mean_movements_after_category['bd_sd'] = np.mean(np.asarray(movements_after_category[1]))\n",
    "        self.mean_movements_after_category['bd_sg'] = np.mean(np.asarray(movements_after_category[2]))\n",
    "        self.mean_movements_after_category['bd_bg'] = np.mean(np.asarray(movements_after_category[3]))\n",
    "        \n",
    "        self.mean_movements_after_category['sd_bd'] = np.mean(np.asarray(movements_after_category[4]))\n",
    "        self.mean_movements_after_category['sd_sd'] = np.mean(np.asarray(movements_after_category[5]))\n",
    "        self.mean_movements_after_category['sd_sg'] = np.mean(np.asarray(movements_after_category[6]))\n",
    "        self.mean_movements_after_category['sd_bg'] = np.mean(np.asarray(movements_after_category[7]))\n",
    "        \n",
    "        self.mean_movements_after_category['sg_bd'] = np.mean(np.asarray(movements_after_category[8]))\n",
    "        self.mean_movements_after_category['sg_sd'] = np.mean(np.asarray(movements_after_category[9]))\n",
    "        self.mean_movements_after_category['sg_sg'] = np.mean(np.asarray(movements_after_category[10]))\n",
    "        self.mean_movements_after_category['sg_bg'] = np.mean(np.asarray(movements_after_category[11]))\n",
    "        \n",
    "        self.mean_movements_after_category['bg_bd'] = np.mean(np.asarray(movements_after_category[12]))\n",
    "        self.mean_movements_after_category['bg_sd'] = np.mean(np.asarray(movements_after_category[13]))\n",
    "        self.mean_movements_after_category['bg_sg'] = np.mean(np.asarray(movements_after_category[14]))\n",
    "        self.mean_movements_after_category['bg_bg'] = np.mean(np.asarray(movements_after_category[15]))\n",
    "        \n",
    "        self.trained=True\n",
    "        \n",
    "    def predict(self, input_sequence, raw=False):\n",
    "        predictions= np.zeros(len(input_sequence) - 1)\n",
    "        for i in range(len(input_sequence) - 1):\n",
    "            predictions[i] = self.mean_movements_after_category[input_sequence[i] + '_' + input_sequence[i+1]]\n",
    "        return predictions"
   ]
  },
  {
   "cell_type": "code",
   "execution_count": 3,
   "metadata": {
    "collapsed": true
   },
   "outputs": [],
   "source": [
    "class TwoDayLinearModel:\n",
    "    trained=False\n",
    "    verbose=False\n",
    "    mean_movements_after_category = {}\n",
    "\n",
    "    def __init__(self, data=None):\n",
    "        if self.verbose: print('Initializing Model...')\n",
    "        if data is not None:\n",
    "            self.train(data)\n",
    "        else:\n",
    "            print('Inintializing without training data')\n",
    "            \n",
    "    def __str__(self):\n",
    "        return 'Local Two Day Model'\n",
    "\n",
    "    def train(self, movement_categories, daily_movements):\n",
    "        if self.verbose: print('Training...')\n",
    "        two_day_trends_linear = get_trends_linear(movement_categories, daily_movements, 2)\n",
    "        all_cats = ['bd', 'sd', 'sg', 'bg']\n",
    "        movements_after_category = []\n",
    "        for cat in all_cats:\n",
    "            movements_after_category.append(get_movements_after_trend(cat, two_day_trends_linear))\n",
    "            \n",
    "        self.mean_movements_after_category['bd'] = np.mean(np.asarray(movements_after_category[0]))\n",
    "        self.mean_movements_after_category['sd'] = np.mean(np.asarray(movements_after_category[1]))\n",
    "        self.mean_movements_after_category['sg'] = np.mean(np.asarray(movements_after_category[2]))\n",
    "        self.mean_movements_after_category['bg'] = np.mean(np.asarray(movements_after_category[3]))\n",
    "        self.trained=True\n",
    "        \n",
    "    def predict(self, input_sequence, raw=False):\n",
    "        predictions= np.zeros(len(input_sequence))\n",
    "        for i in range(len(input_sequence)):\n",
    "            predictions[i] = self.mean_movements_after_category[input_sequence[i]]\n",
    "        return predictions"
   ]
  },
  {
   "cell_type": "markdown",
   "metadata": {},
   "source": [
    "#### Split into training and verification, train models on training data"
   ]
  },
  {
   "cell_type": "code",
   "execution_count": 4,
   "metadata": {
    "collapsed": true
   },
   "outputs": [],
   "source": [
    "df = pd.DataFrame()\n",
    "df = df.from_csv('stock_data/spy.csv')\n",
    "\n",
    "daily_movements = get_price_movement_percentages(df)\n",
    "movement_categories = categorize_movements(daily_movements, n_cats=4)\n",
    "\n",
    "period_len = int(len(daily_movements) / 5)\n",
    "train_daily_movements = daily_movements[0:4*period_len]\n",
    "valid_daily_movements = daily_movements[4*period_len+1:5*period_len]\n",
    "\n",
    "train_movement_categories = movement_categories[0:4*period_len]\n",
    "valid_movement_categories = movement_categories[4*period_len+1:5*period_len]"
   ]
  },
  {
   "cell_type": "code",
   "execution_count": 5,
   "metadata": {},
   "outputs": [
    {
     "name": "stdout",
     "output_type": "stream",
     "text": [
      "Inintializing without training data\n",
      "Inintializing without training data\n"
     ]
    }
   ],
   "source": [
    "two_L = TwoDayLinearModel()\n",
    "two_L.train(train_movement_categories, train_daily_movements)\n",
    "\n",
    "three_L = ThreeDayLinearModel()\n",
    "three_L.train(train_movement_categories, train_daily_movements)"
   ]
  },
  {
   "cell_type": "code",
   "execution_count": 6,
   "metadata": {},
   "outputs": [
    {
     "name": "stdout",
     "output_type": "stream",
     "text": [
      "[-0.1318665   0.22140209]\n",
      "[-0.5647466   0.94179326]\n"
     ]
    }
   ],
   "source": [
    "print(two_L.predict(['bg', 'bd']))\n",
    "print(three_L.predict(['bg', 'bd', 'bd']))"
   ]
  },
  {
   "cell_type": "code",
   "execution_count": 7,
   "metadata": {},
   "outputs": [
    {
     "data": {
      "text/plain": [
       "0.052737318559556379"
      ]
     },
     "execution_count": 7,
     "metadata": {},
     "output_type": "execute_result"
    }
   ],
   "source": [
    "np.mean(valid_daily_movements)"
   ]
  },
  {
   "cell_type": "markdown",
   "metadata": {},
   "source": [
    "### 2. Get Linear Model Predictions on validation set"
   ]
  },
  {
   "cell_type": "code",
   "execution_count": 8,
   "metadata": {
    "collapsed": true
   },
   "outputs": [],
   "source": [
    "two_L_predictions = two_L.predict(valid_movement_categories)\n",
    "three_L_predictions = three_L.predict(valid_movement_categories) ## Contains 1 less prediction then the above"
   ]
  },
  {
   "cell_type": "code",
   "execution_count": 9,
   "metadata": {
    "collapsed": true
   },
   "outputs": [],
   "source": [
    "baseline_prediction_1 = np.full(len(two_L_predictions), np.mean(train_daily_movements))\n",
    "baseline_prediction_2 = np.full(len(two_L_predictions), np.mean(valid_daily_movements))"
   ]
  },
  {
   "cell_type": "markdown",
   "metadata": {},
   "source": [
    "### 3. Get R squared values for two day and three day linear models on SPY\n",
    "#### Verify R squared working correctly by predicting the mean movement, and verifying it should be close to 0"
   ]
  },
  {
   "cell_type": "code",
   "execution_count": 24,
   "metadata": {
    "collapsed": true
   },
   "outputs": [],
   "source": [
    "def get_r_squared(y, y_hat):\n",
    "    \n",
    "    if (y_hat.size != y.size):\n",
    "        raise ValueError(\"Size of y and y_hat don't match\")\n",
    "        \n",
    "    ## Need y_hat, y_bar, y\n",
    "    y_bar = np.mean(y)\n",
    "    squared_residual_variance = np.zeros(y.size)\n",
    "    squared_total_variance = np.zeros(y.size)\n",
    "    \n",
    "    for i in range(y.size):\n",
    "        squared_residual_variance[i] = (y_hat[i] - y[i]) ** 2\n",
    "        squared_total_variance[i] = (y_bar - y[i]) ** 2\n",
    "        \n",
    "    SSR = np.sum(squared_residual_variance)\n",
    "    SST = np.sum(squared_total_variance)\n",
    "    \n",
    "    r_squared = (1 - (SSR / SST))\n",
    "    return r_squared"
   ]
  },
  {
   "cell_type": "code",
   "execution_count": 25,
   "metadata": {},
   "outputs": [
    {
     "name": "stdout",
     "output_type": "stream",
     "text": [
      "Two Day Linear Model: r squared is 0.0073. r value is 0.0852\n",
      "Three Day Linear Model: r squared is 0.0108. r value is 0.1038\n",
      "\n",
      "Baseline 1 (mean of training data): r squared is -0.0015\n",
      "Baseline 2 (mean of validation data): r squared is -0.0000\n"
     ]
    }
   ],
   "source": [
    "r2_two_L = get_r_squared(valid_daily_movements[1:], two_L_predictions[:-1])\n",
    "r2_three_L = get_r_squared(valid_daily_movements[2:], three_L_predictions[:-1])\n",
    "\n",
    "r2_b1 = get_r_squared(valid_daily_movements[1:], baseline_prediction_1[:-1])\n",
    "r2_b2 = get_r_squared(valid_daily_movements[1:], baseline_prediction_2[:-1])\n",
    "\n",
    "print('Two Day Linear Model: r squared is ' + '{0:.4f}'.format(r2_two_L) + '. r value is ' + '{0:.4f}'.format((np.sqrt(r2_two_L))))\n",
    "print('Three Day Linear Model: r squared is ' + '{0:.4f}'.format(r2_three_L)  + '. r value is ' + '{0:.4f}'.format((np.sqrt(r2_three_L))))\n",
    "print()\n",
    "print('Baseline 1 (mean of training data): r squared is ' + '{0:.4f}'.format(r2_b1))\n",
    "print('Baseline 2 (mean of validation data): r squared is ' + '{0:.4f}'.format(r2_b2))"
   ]
  },
  {
   "cell_type": "code",
   "execution_count": 30,
   "metadata": {},
   "outputs": [
    {
     "name": "stdout",
     "output_type": "stream",
     "text": [
      "0.948608137045\n",
      "\n",
      "0.00726397187253\n",
      "0.0107837674562\n"
     ]
    }
   ],
   "source": [
    "## Confirm\n",
    "from sklearn.metrics import r2_score\n",
    "\n",
    "y_true = [3, -0.5, 2, 7]\n",
    "y_pred = [2.5, 0.0, 2, 8]\n",
    "print(r2_score(y_true, y_pred))\n",
    "print()\n",
    "\n",
    "print(r2_score(valid_daily_movements[1:], two_L_predictions[:-1]))\n",
    "print(r2_score(valid_daily_movements[2:], three_L_predictions[:-1]))"
   ]
  },
  {
   "cell_type": "markdown",
   "metadata": {},
   "source": [
    "## Design Flaws\n",
    "#### In real life scenarios, we cannot catogorize all the daily movements together\n",
    "So we would have to categorize our training data, then categorize each new movement is they came in for prediction use"
   ]
  },
  {
   "cell_type": "markdown",
   "metadata": {},
   "source": [
    "## TODO implement this"
   ]
  },
  {
   "cell_type": "code",
   "execution_count": null,
   "metadata": {
    "collapsed": true
   },
   "outputs": [],
   "source": []
  }
 ],
 "metadata": {
  "kernelspec": {
   "display_name": "Python 3",
   "language": "python",
   "name": "python3"
  },
  "language_info": {
   "codemirror_mode": {
    "name": "ipython",
    "version": 3
   },
   "file_extension": ".py",
   "mimetype": "text/x-python",
   "name": "python",
   "nbconvert_exporter": "python",
   "pygments_lexer": "ipython3",
   "version": "3.5.3"
  }
 },
 "nbformat": 4,
 "nbformat_minor": 2
}
