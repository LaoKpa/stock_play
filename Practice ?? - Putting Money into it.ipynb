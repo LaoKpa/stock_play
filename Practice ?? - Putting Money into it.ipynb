{
 "cells": [
  {
   "cell_type": "markdown",
   "metadata": {},
   "source": [
    "Goal: Try to see what the outcome of using a momentum strategy would be.\n",
    "\n",
    "(i.e. if I had started using this strategy from 2010 with 1000 dollars, what would my return be)\n",
    "Compare that result with putting that 1000 in that stock and leaving it there\n",
    "\n",
    "(i.e. if I had started using this strategy from 2010 with 1000 dollars, what would my return be)\n",
    "Compare that result with putting that 1000 in that stock and leaving it there"
   ]
  },
  {
   "cell_type": "code",
   "execution_count": null,
   "metadata": {
    "collapsed": true
   },
   "outputs": [],
   "source": []
  }
 ],
 "metadata": {
  "anaconda-cloud": {},
  "kernelspec": {
   "display_name": "Python [conda root]",
   "language": "python",
   "name": "conda-root-py"
  },
  "language_info": {
   "codemirror_mode": {
    "name": "ipython",
    "version": 3
   },
   "file_extension": ".py",
   "mimetype": "text/x-python",
   "name": "python",
   "nbconvert_exporter": "python",
   "pygments_lexer": "ipython3",
   "version": "3.5.2"
  }
 },
 "nbformat": 4,
 "nbformat_minor": 1
}
