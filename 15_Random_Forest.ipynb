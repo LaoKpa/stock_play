{
 "cells": [
  {
   "cell_type": "markdown",
   "metadata": {},
   "source": [
    "## Goal of this notebook\n",
    "We want to combine four of the features we have built so far: the price movement percentage of the previous day, the price movement percentage of the previous two days, the previous day's intra-day range, and the prior day's relative volume.\n",
    "\n",
    "We will build models based on these features. \n",
    "\n",
    "Also, we will add something akin to the \"null hypothesis\" as a feature. This feature will just predict the overall probabilities of each category. The reason for including this is to make sure that the other features are not just better than each other, but also better than randomly selecting movements from the probability distribution by chance. \n",
    "\n",
    "This process serves the purpose of both cross-validating our models accross stocks and time, and also of coming up with feature weights."
   ]
  },
  {
   "cell_type": "markdown",
   "metadata": {},
   "source": [
    "## TODO \n",
    " - Implement build_forest(features, data, n_trees, max_depth)\n",
    " - Implement build_decision_tree(features, data, max_depth)\n",
    " - Evaluate the subset of training data (sqrt(n)) on a random subset (half) of the features, give a \"vote\" for whichever feature predicts the data better. Do this for n_trees trees.\n",
    " - At the end, we will have a way to weight each model to produce a ensembled prediction"
   ]
  },
  {
   "cell_type": "code",
   "execution_count": null,
   "metadata": {
    "collapsed": true
   },
   "outputs": [],
   "source": [
    "df = pd.DataFrame()\n",
    "df = df.from_csv('stock_data/nvda.csv')\n",
    "\n",
    "daily_movements = get_price_movements(df)\n",
    "movement_categories = categorize_movements(daily_movements, n_cats=4)\n",
    "\n",
    "two_day_movement_trends = get_trends(movement_categories, 2)\n",
    "three_day_movement_trends = get_trends(movement_categories, 3)\n",
    "\n",
    "relative_volumes = get_relative_volume(df, relative_period=20)\n",
    "volume_categories = categorize_volumes(relative_volumes)\n",
    "two_day_volume_trends = get_two_day_volume_trends(volume_categories, movement_categories)\n",
    "\n",
    "daily_range_percentages = get_intra_day_range_percentage(df)\n",
    "range_categories = categorize_ranges(daily_range_percentages)\n",
    "two_day_range_trends = get_two_day_range_trends(range_categories, movement_categories)"
   ]
  },
  {
   "cell_type": "code",
   "execution_count": 1,
   "metadata": {},
   "outputs": [
    {
     "ename": "IndentationError",
     "evalue": "expected an indented block (<ipython-input-1-8af687427d29>, line 9)",
     "output_type": "error",
     "traceback": [
      "\u001b[0;36m  File \u001b[0;32m\"<ipython-input-1-8af687427d29>\"\u001b[0;36m, line \u001b[0;32m9\u001b[0m\n\u001b[0;31m    sample_data_categories = categorize_movements(sample_data)\u001b[0m\n\u001b[0m                         ^\u001b[0m\n\u001b[0;31mIndentationError\u001b[0m\u001b[0;31m:\u001b[0m expected an indented block\n"
     ]
    }
   ],
   "source": [
    "def build_decision_tree(feature_1_probs, feature_2_probs, sample_data_categories):\n",
    "    feature_1_score = 0 \n",
    "    feature_2_score = 0\n",
    "    sample_two_day_movement_trends = get_trends(sample_data_categories, 2)\n",
    "    \n",
    "    for i in len(sample_data_categories):\n",
    "        \n",
    "        \n",
    "    sample_data_categories = categorize_movements(sample_data)\n",
    "    sample_data_probabilities = get_single_day_probabilities(sample_data_categories)\n",
    "    \n",
    "    print(sample_data_probabilities)\n",
    "    return"
   ]
  },
  {
   "cell_type": "code",
   "execution_count": null,
   "metadata": {
    "collapsed": true
   },
   "outputs": [],
   "source": []
  }
 ],
 "metadata": {
  "kernelspec": {
   "display_name": "Python 3",
   "language": "python",
   "name": "python3"
  },
  "language_info": {
   "codemirror_mode": {
    "name": "ipython",
    "version": 3
   },
   "file_extension": ".py",
   "mimetype": "text/x-python",
   "name": "python",
   "nbconvert_exporter": "python",
   "pygments_lexer": "ipython3",
   "version": "3.5.3"
  }
 },
 "nbformat": 4,
 "nbformat_minor": 2
}
