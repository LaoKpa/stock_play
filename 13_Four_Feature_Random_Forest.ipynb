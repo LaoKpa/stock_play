{
 "cells": [
  {
   "cell_type": "markdown",
   "metadata": {
    "collapsed": true
   },
   "source": [
    "## Goal of this notebook\n",
    "We want to combine three of the features we have built so far: the prior day's price movement percentage, the prior day's intra-day range, and the prior day's relative volume.\n",
    "\n",
    " - **TODO** -- add three day momentum as a feature"
   ]
  },
  {
   "cell_type": "markdown",
   "metadata": {
    "collapsed": true
   },
   "source": [
    " - x is a (d by n) dimensional matrix. Each row of x is a different feature. The three different features we have are: the previous day's price movement percentage, the previous day's intra-day range, and the previous day's volume.\n",
    " - In this case, d is 3, and n is the number of two day pairs "
   ]
  },
  {
   "cell_type": "markdown",
   "metadata": {},
   "source": [
    "3 feature: two day momentum, 3 day momentum, and "
   ]
  },
  {
   "cell_type": "code",
   "execution_count": 8,
   "metadata": {
    "collapsed": true
   },
   "outputs": [],
   "source": [
    "from stock_utils import *"
   ]
  },
  {
   "cell_type": "code",
   "execution_count": 32,
   "metadata": {
    "collapsed": true
   },
   "outputs": [],
   "source": [
    "df = pd.DataFrame()\n",
    "df = df.from_csv('stock_data/nvda.csv')\n",
    "\n",
    "daily_movements = get_price_movements(df)\n",
    "movement_categories = categorize_movements(daily_movements, n_cats=4)\n",
    "\n",
    "two_day_movement_trends = get_trends(movement_categories, 2)\n",
    "three_day_movement_trends = get_trends(movement_categories, 3)\n",
    "\n",
    "relative_volumes = get_relative_volume(df, relative_period=20)\n",
    "volume_categories = categorize_volumes(relative_volumes)\n",
    "two_day_volume_trends = get_two_day_volume_trends(volume_categories, movement_categories)\n",
    "\n",
    "daily_range_percentages = get_intra_day_range_percentage(df)\n",
    "range_categories = categorize_ranges(daily_range_percentages)\n",
    "two_day_range_trends = get_two_day_range_trends(range_categories, movement_categories)"
   ]
  },
  {
   "cell_type": "code",
   "execution_count": 45,
   "metadata": {},
   "outputs": [],
   "source": [
    "def get_probabilities_after_event(previous_event_category, trends, movement_categories):\n",
    "    \"\"\"\n",
    "    Given an event that occured the previous day, return the probabilities of the next day's\n",
    "    movement categories conditioned on said event.\n",
    "    \n",
    "    Arguments:\n",
    "      previous_event_category -- The category of the event we observed the previous day \n",
    "                                 (or two days in the case of three day momentum)\n",
    "      trends -- All two (or three) day trends that were observed for this event type.\n",
    "      movement_categories -- all daily movement categories that were observed\n",
    "    \n",
    "    Returns:\n",
    "      next_day_movement_probabilities -- Probabilities of each of the next day's categories\n",
    "                                         conditioned on the previous event category\n",
    "    \"\"\"\n",
    "    movement_category_types = ['bd', 'sd', 'sg', 'bg']\n",
    "    next_day_movement_probabilities = []\n",
    "    \n",
    "    for next_day in movement_category_types:\n",
    "        trend_name = previous_event_category + '_' + next_day\n",
    "        trend_count = count_trends(trends, trend_name)\n",
    "            \n",
    "        trend_total = 0\n",
    "        for category in movement_category_types:\n",
    "            trend_total += count_trends(trends, previous_event_category + '_' + category)\n",
    "            \n",
    "        trend_prob = trend_count / trend_total\n",
    "        next_day_movement_probabilities.append(trend_prob)\n",
    "        \n",
    "    return next_day_movement_probabilities"
   ]
  },
  {
   "cell_type": "code",
   "execution_count": 42,
   "metadata": {},
   "outputs": [
    {
     "data": {
      "text/plain": [
       "[0.08952187182095625,\n",
       " 0.43641912512716174,\n",
       " 0.38250254323499494,\n",
       " 0.09155645981688708]"
      ]
     },
     "execution_count": 42,
     "metadata": {},
     "output_type": "execute_result"
    }
   ],
   "source": [
    "#get_probabilities_after_event('movement_category', 'sg', two_day_movement_trends, movement_categories)"
   ]
  },
  {
   "cell_type": "code",
   "execution_count": 44,
   "metadata": {},
   "outputs": [
    {
     "data": {
      "text/plain": [
       "[0.08952187182095625,\n",
       " 0.43641912512716174,\n",
       " 0.38250254323499494,\n",
       " 0.09155645981688708]"
      ]
     },
     "execution_count": 44,
     "metadata": {},
     "output_type": "execute_result"
    }
   ],
   "source": [
    "get_probabilities_after_event('sg', two_day_movement_trends, movement_categories)"
   ]
  },
  {
   "cell_type": "code",
   "execution_count": 39,
   "metadata": {},
   "outputs": [
    {
     "data": {
      "text/plain": [
       "[0.1875, 0.25, 0.3541666666666667, 0.20833333333333334]"
      ]
     },
     "execution_count": 39,
     "metadata": {},
     "output_type": "execute_result"
    }
   ],
   "source": [
    "get_probabilities_after_event('two_movement_categories', 'bd_bd', three_day_movement_trends, movement_categories)"
   ]
  },
  {
   "cell_type": "code",
   "execution_count": 36,
   "metadata": {},
   "outputs": [
    {
     "data": {
      "text/plain": [
       "'todo'"
      ]
     },
     "execution_count": 36,
     "metadata": {},
     "output_type": "execute_result"
    }
   ],
   "source": [
    "get_probabilities_after_event('volume', 's', two_day_volume_trends, movement_categories)"
   ]
  },
  {
   "cell_type": "code",
   "execution_count": null,
   "metadata": {
    "collapsed": true
   },
   "outputs": [],
   "source": []
  },
  {
   "cell_type": "markdown",
   "metadata": {},
   "source": [
    "## TODO -- Write function get two day probabilities, get three day probabilities, get probabilities fro id category, get probabilities from volume category"
   ]
  },
  {
   "cell_type": "markdown",
   "metadata": {},
   "source": [
    "## TODO -- Write function plot_ensemble(models)"
   ]
  },
  {
   "cell_type": "code",
   "execution_count": null,
   "metadata": {
    "collapsed": true
   },
   "outputs": [],
   "source": []
  },
  {
   "cell_type": "code",
   "execution_count": null,
   "metadata": {
    "collapsed": true
   },
   "outputs": [],
   "source": []
  },
  {
   "cell_type": "code",
   "execution_count": null,
   "metadata": {
    "collapsed": true
   },
   "outputs": [],
   "source": []
  },
  {
   "cell_type": "code",
   "execution_count": null,
   "metadata": {
    "collapsed": true
   },
   "outputs": [],
   "source": []
  },
  {
   "cell_type": "code",
   "execution_count": null,
   "metadata": {
    "collapsed": true
   },
   "outputs": [],
   "source": [
    "def get_probabilities_after_event(previous_event_type, previous_event_category, trends, movement_categories):\n",
    "    \"\"\"\n",
    "    \n",
    "    \"\"\"\n",
    "    movement_category_types = ['bd', 'sd', 'sg', 'bg']\n",
    "    \n",
    "    ## Can combine\n",
    "    \n",
    "    ##-=-=-=-=-=-=-=-=-=-=\n",
    "    ## Two day momentum\n",
    "    ##-=-=-=-=-=-=-=-=-=-=\n",
    "    if previous_event_type == 'movement_category':\n",
    "        #previous_event_count = count_movement_category(movement_categories, previous_event_category)\n",
    "        two_day_probs = []\n",
    "        \n",
    "        for next_day in movement_category_types:\n",
    "            two_day_name = previous_event_category + '_' + next_day\n",
    "            two_day_count = count_trends(trends, two_day_name)\n",
    "            \n",
    "            two_day_total = 0\n",
    "            for category in movement_category_types:\n",
    "                two_day_total += count_trends(trends, previous_event_category + '_' + category)\n",
    "            \n",
    "            two_day_prob = two_day_count / two_day_total\n",
    "            two_day_probs.append(two_day_prob)\n",
    "        \n",
    "        return two_day_probs\n",
    "    \n",
    "    ##-=-=-=-=-=-=-=-=-=-=\n",
    "    ## Three day momentum\n",
    "    ##-=-=-=-=-=-=-=-=-=-=\n",
    "    elif previous_event_type == 'two_movement_categories':\n",
    "        three_day_probs = []\n",
    "        \n",
    "        for next_day in movement_category_types:  \n",
    "            three_day_name = previous_event_category + '_' + next_day\n",
    "            three_day_count = count_trends(trends, three_day_name)\n",
    "\n",
    "            three_day_total = 0\n",
    "            for category in movement_category_types:\n",
    "                three_day_total += count_trends(three_day_trends, previous_event_category + '_' + category)\n",
    "\n",
    "            three_day_prob = three_day_count / three_day_total\n",
    "            three_day_probs.append(three_day_prob)\n",
    "            \n",
    "        return three_day_probs\n",
    "    \n",
    "    ##-=-=-=-=-=-=-=\n",
    "    ## Volume\n",
    "    ##-=-=-=-=-=-=-=\n",
    "    elif previous_event_type == 'volume':\n",
    "        ## TODO\n",
    "        ## TODO\n",
    "        return \"todo\"\n",
    "        \n",
    "    ## Intra-day Range\n",
    "    elif previous_event_type == 'intra_day_range':\n",
    "        ## TODO\n",
    "        ## TODO\n",
    "        return \"todo\"\n",
    "        \n",
    "    else:\n",
    "        raise ValueError('event_type must be one of the following: previous_movement_category, '\n",
    "                         + 'previous_two_movement_categories, previous_volume, previous_intra_day_range')\n",
    "    \n",
    "    return"
   ]
  }
 ],
 "metadata": {
  "anaconda-cloud": {},
  "kernelspec": {
   "display_name": "Python 3",
   "language": "python",
   "name": "python3"
  },
  "language_info": {
   "codemirror_mode": {
    "name": "ipython",
    "version": 3
   },
   "file_extension": ".py",
   "mimetype": "text/x-python",
   "name": "python",
   "nbconvert_exporter": "python",
   "pygments_lexer": "ipython3",
   "version": "3.5.3"
  }
 },
 "nbformat": 4,
 "nbformat_minor": 1
}
