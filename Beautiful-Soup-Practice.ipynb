{
 "cells": [
  {
   "cell_type": "markdown",
   "metadata": {},
   "source": [
    "## Goal \n",
    " - Manually update the CSVs of a few stocks\n",
    " - Write a function to update a given CSV with that tickers data\n",
    "\n",
    "----------------\n",
    "\n",
    " - Think of scenarios where this might fail, and what I can reasonably do to combat this\n",
    " - Write and schedule procedure to scrape for all **stock_data** stocks Monday-Friday after close\n",
    " - Write and schedule procedure to scrape for all S&P 500 stocks Monday-Friday after close"
   ]
  },
  {
   "cell_type": "code",
   "execution_count": 1,
   "metadata": {
    "collapsed": true
   },
   "outputs": [],
   "source": [
    "from stock_utils import *"
   ]
  },
  {
   "cell_type": "code",
   "execution_count": 2,
   "metadata": {
    "collapsed": true
   },
   "outputs": [],
   "source": [
    "from bs4 import BeautifulSoup\n",
    "import requests\n",
    "import re"
   ]
  },
  {
   "cell_type": "markdown",
   "metadata": {},
   "source": [
    "### Yahoo"
   ]
  },
  {
   "cell_type": "code",
   "execution_count": 6,
   "metadata": {
    "collapsed": true
   },
   "outputs": [],
   "source": [
    "def update_CSV(path_to_csv, backup=False):\n",
    "    if backup is True:\n",
    "        raise ValueError('Not yet supported')\n",
    "        \n",
    "    ticker = ticker_from_csv(path_to_csv)\n",
    "        \n",
    "    ## Open Yahoo Finance data\n",
    "    url = \"https://finance.yahoo.com/quote/{sym}/history?p={sym}\".format(sym=ticker)\n",
    "    r = requests.get(url)\n",
    "    soup = BeautifulSoup(r.text, \"html.parser\")\n",
    "    \n",
    "    ## Store all rows of historical data for this stock in 'all_rows'\n",
    "    all_rows = []\n",
    "    historical_rows = soup.findAll('tr', attrs={'class':'BdT Bdc($c-fuji-grey-c) Ta(end) Fz(s) Whs(nw)'})\n",
    "    for row in historical_rows:\n",
    "        table_cells = row.findAll('td')\n",
    "        row_list = []\n",
    "        for cell in table_cells:\n",
    "            #print(cell.text.strip())\n",
    "            row_list.append(cell.text.strip())\n",
    "        all_rows.append(row_list)\n",
    "        \n",
    "    ## Add any days that are missing to the CSV\n",
    "    df = pd.DataFrame()\n",
    "    df = df.from_csv(path_to_csv)\n",
    "    \n",
    "    for i in range(len(all_rows)):\n",
    "        if pd.to_datetime(all_rows[i][0]) not in df.index:\n",
    "            s_close = all_rows[i][5]\n",
    "            s_volume = int(all_rows[i][6].replace(',', ''))\n",
    "            s_open = all_rows[i][1]\n",
    "            s_high = all_rows[i][2]\n",
    "            s_low = all_rows[i][3]\n",
    "            df.loc[pd.to_datetime(all_rows[i][0])] = [s_close, s_volume, s_open, s_high, s_low]\n",
    "      \n",
    "    df = df.sort_index(axis=0)\n",
    "    df.to_csv(path_to_csv)"
   ]
  },
  {
   "cell_type": "code",
   "execution_count": 7,
   "metadata": {},
   "outputs": [],
   "source": [
    "update_CSV('stock_data/amd.csv')"
   ]
  },
  {
   "cell_type": "code",
   "execution_count": null,
   "metadata": {
    "collapsed": true
   },
   "outputs": [],
   "source": []
  },
  {
   "cell_type": "code",
   "execution_count": null,
   "metadata": {
    "collapsed": true
   },
   "outputs": [],
   "source": []
  },
  {
   "cell_type": "code",
   "execution_count": 129,
   "metadata": {},
   "outputs": [
    {
     "name": "stdout",
     "output_type": "stream",
     "text": [
      "Enter symbol: CHTR\n",
      "Enter symbol: stop\n"
     ]
    }
   ],
   "source": [
    "while True:\n",
    "    symbol = input(\"Enter symbol: \")\n",
    "\n",
    "    if symbol == 'stop':\n",
    "        break    \n",
    "    \n",
    "    url = \"https://finance.yahoo.com/quote/{sym}/history?p={sym}\".format(sym=symbol)\n",
    "    r = requests.get(url)\n",
    "    soup = BeautifulSoup(r.text, \"html.parser\")\n",
    "    \n",
    "    all_rows = []\n",
    "    historical_rows = soup.findAll('tr', attrs={'class':'BdT Bdc($c-fuji-grey-c) Ta(end) Fz(s) Whs(nw)'})\n",
    "    for row in historical_rows:\n",
    "        table_cells = row.findAll('td')\n",
    "        row_list = []\n",
    "        for cell in table_cells:\n",
    "            #print(cell.text.strip())\n",
    "            row_list.append(cell.text.strip())\n",
    "        all_rows.append(row_list)"
   ]
  },
  {
   "cell_type": "code",
   "execution_count": 114,
   "metadata": {
    "collapsed": true
   },
   "outputs": [],
   "source": [
    "df = pd.DataFrame()\n",
    "df = df.from_csv('stock_data/chtr.csv')\n",
    "#df = df.sort_index(axis=0)"
   ]
  },
  {
   "cell_type": "code",
   "execution_count": 115,
   "metadata": {},
   "outputs": [
    {
     "data": {
      "text/html": [
       "<div>\n",
       "<table border=\"1\" class=\"dataframe\">\n",
       "  <thead>\n",
       "    <tr style=\"text-align: right;\">\n",
       "      <th></th>\n",
       "      <th>close</th>\n",
       "      <th>volume</th>\n",
       "      <th>open</th>\n",
       "      <th>high</th>\n",
       "      <th>low</th>\n",
       "    </tr>\n",
       "    <tr>\n",
       "      <th>date</th>\n",
       "      <th></th>\n",
       "      <th></th>\n",
       "      <th></th>\n",
       "      <th></th>\n",
       "      <th></th>\n",
       "    </tr>\n",
       "  </thead>\n",
       "  <tbody>\n",
       "    <tr>\n",
       "      <th>2017-09-22</th>\n",
       "      <td>360.30</td>\n",
       "      <td>2078451.0</td>\n",
       "      <td>359.54</td>\n",
       "      <td>363.33</td>\n",
       "      <td>358.750</td>\n",
       "    </tr>\n",
       "    <tr>\n",
       "      <th>2017-09-21</th>\n",
       "      <td>361.08</td>\n",
       "      <td>2374150.0</td>\n",
       "      <td>365.88</td>\n",
       "      <td>366.40</td>\n",
       "      <td>359.093</td>\n",
       "    </tr>\n",
       "    <tr>\n",
       "      <th>2017-09-20</th>\n",
       "      <td>367.01</td>\n",
       "      <td>2156612.0</td>\n",
       "      <td>365.99</td>\n",
       "      <td>371.50</td>\n",
       "      <td>363.500</td>\n",
       "    </tr>\n",
       "    <tr>\n",
       "      <th>2017-09-19</th>\n",
       "      <td>364.02</td>\n",
       "      <td>3293103.0</td>\n",
       "      <td>368.39</td>\n",
       "      <td>369.84</td>\n",
       "      <td>360.430</td>\n",
       "    </tr>\n",
       "    <tr>\n",
       "      <th>2017-09-18</th>\n",
       "      <td>368.17</td>\n",
       "      <td>1870865.0</td>\n",
       "      <td>370.20</td>\n",
       "      <td>371.51</td>\n",
       "      <td>365.900</td>\n",
       "    </tr>\n",
       "  </tbody>\n",
       "</table>\n",
       "</div>"
      ],
      "text/plain": [
       "             close     volume    open    high      low\n",
       "date                                                  \n",
       "2017-09-22  360.30  2078451.0  359.54  363.33  358.750\n",
       "2017-09-21  361.08  2374150.0  365.88  366.40  359.093\n",
       "2017-09-20  367.01  2156612.0  365.99  371.50  363.500\n",
       "2017-09-19  364.02  3293103.0  368.39  369.84  360.430\n",
       "2017-09-18  368.17  1870865.0  370.20  371.51  365.900"
      ]
     },
     "execution_count": 115,
     "metadata": {},
     "output_type": "execute_result"
    }
   ],
   "source": [
    "df.head()"
   ]
  },
  {
   "cell_type": "markdown",
   "metadata": {},
   "source": [
    "Short-hand month name is **%b**   \n",
    "Zero padded day is **%d**  \n",
    "Fulle Year is **%Y**"
   ]
  },
  {
   "cell_type": "code",
   "execution_count": 116,
   "metadata": {
    "collapsed": true
   },
   "outputs": [],
   "source": [
    "sample_date = all_rows[7][0]"
   ]
  },
  {
   "cell_type": "code",
   "execution_count": 117,
   "metadata": {},
   "outputs": [
    {
     "data": {
      "text/plain": [
       "'Oct 05, 2017'"
      ]
     },
     "execution_count": 117,
     "metadata": {},
     "output_type": "execute_result"
    }
   ],
   "source": [
    "sample_date"
   ]
  },
  {
   "cell_type": "code",
   "execution_count": 118,
   "metadata": {},
   "outputs": [],
   "source": [
    "#pd.to_datetime(sample_date)\n",
    "converted_date = pd.to_datetime(sample_date).strftime('%Y/%m/%d')"
   ]
  },
  {
   "cell_type": "code",
   "execution_count": 119,
   "metadata": {},
   "outputs": [
    {
     "data": {
      "text/plain": [
       "True"
      ]
     },
     "execution_count": 119,
     "metadata": {},
     "output_type": "execute_result"
    }
   ],
   "source": [
    "pd.to_datetime(sample_date) == pd.to_datetime(converted_date)"
   ]
  },
  {
   "cell_type": "code",
   "execution_count": 120,
   "metadata": {},
   "outputs": [
    {
     "name": "stdout",
     "output_type": "stream",
     "text": [
      "in\n",
      "in\n",
      "in\n",
      "in\n",
      "in\n",
      "in\n",
      "in\n",
      "in\n",
      "in\n",
      "in\n",
      "in\n",
      "in\n",
      "in\n",
      "in\n",
      "in\n",
      "in\n",
      "in\n",
      "in\n",
      "in\n",
      "in\n",
      "in\n",
      "in\n",
      "in\n",
      "in\n",
      "in\n",
      "in\n",
      "in\n",
      "in\n",
      "in\n",
      "in\n",
      "in\n",
      "in\n",
      "in\n",
      "in\n",
      "in\n",
      "in\n",
      "in\n",
      "in\n",
      "in\n",
      "in\n",
      "in\n",
      "in\n",
      "in\n",
      "in\n",
      "in\n",
      "in\n",
      "in\n",
      "in\n",
      "in\n",
      "in\n",
      "in\n",
      "in\n",
      "in\n",
      "in\n",
      "in\n",
      "in\n",
      "in\n",
      "in\n",
      "in\n",
      "in\n",
      "in\n",
      "in\n",
      "in\n",
      "in\n",
      "in\n",
      "in\n",
      "in\n",
      "in\n",
      "in\n",
      "in\n",
      "in\n",
      "in\n",
      "in\n",
      "in\n",
      "in\n",
      "in\n",
      "in\n",
      "in\n",
      "in\n",
      "in\n",
      "in\n",
      "in\n",
      "in\n",
      "in\n"
     ]
    }
   ],
   "source": [
    "for i in range(len(all_rows)):\n",
    "    if pd.to_datetime(all_rows[i][0]) in df.index:\n",
    "        print('in')\n",
    "    else:\n",
    "        #print(all_rows[i][0])\n",
    "        s_close = all_rows[i][5]\n",
    "        s_volume = int(all_rows[i][6].replace(',', ''))\n",
    "        s_open = all_rows[i][1]\n",
    "        s_high = all_rows[i][2]\n",
    "        s_low = all_rows[i][3]\n",
    "        df.loc[pd.to_datetime(all_rows[i][0])] = [s_close, s_volume, s_open, s_high, s_low]"
   ]
  },
  {
   "cell_type": "code",
   "execution_count": null,
   "metadata": {
    "collapsed": true
   },
   "outputs": [],
   "source": []
  },
  {
   "cell_type": "code",
   "execution_count": 121,
   "metadata": {
    "collapsed": true
   },
   "outputs": [],
   "source": [
    "df = df.sort_index(axis=0)"
   ]
  },
  {
   "cell_type": "code",
   "execution_count": 122,
   "metadata": {},
   "outputs": [],
   "source": [
    "df.to_csv('stock_data/chtr.csv')"
   ]
  },
  {
   "cell_type": "code",
   "execution_count": 89,
   "metadata": {},
   "outputs": [],
   "source": [
    "#df = df.from_csv('stock_data/chtr_temp.csv')"
   ]
  },
  {
   "cell_type": "code",
   "execution_count": null,
   "metadata": {
    "collapsed": true
   },
   "outputs": [],
   "source": []
  },
  {
   "cell_type": "code",
   "execution_count": 90,
   "metadata": {},
   "outputs": [
    {
     "data": {
      "text/html": [
       "<div>\n",
       "<table border=\"1\" class=\"dataframe\">\n",
       "  <thead>\n",
       "    <tr style=\"text-align: right;\">\n",
       "      <th></th>\n",
       "      <th>close</th>\n",
       "      <th>volume</th>\n",
       "      <th>open</th>\n",
       "      <th>high</th>\n",
       "      <th>low</th>\n",
       "    </tr>\n",
       "    <tr>\n",
       "      <th>date</th>\n",
       "      <th></th>\n",
       "      <th></th>\n",
       "      <th></th>\n",
       "      <th></th>\n",
       "      <th></th>\n",
       "    </tr>\n",
       "  </thead>\n",
       "  <tbody>\n",
       "    <tr>\n",
       "      <th>2016-04-12</th>\n",
       "      <td>221.4665</td>\n",
       "      <td>1213151.0</td>\n",
       "      <td>221.4775</td>\n",
       "      <td>223.6120</td>\n",
       "      <td>220.6370</td>\n",
       "    </tr>\n",
       "    <tr>\n",
       "      <th>2016-04-13</th>\n",
       "      <td>224.1871</td>\n",
       "      <td>1299353.0</td>\n",
       "      <td>223.4019</td>\n",
       "      <td>226.7087</td>\n",
       "      <td>221.1015</td>\n",
       "    </tr>\n",
       "    <tr>\n",
       "      <th>2016-04-14</th>\n",
       "      <td>222.0858</td>\n",
       "      <td>1178054.0</td>\n",
       "      <td>223.7890</td>\n",
       "      <td>224.5410</td>\n",
       "      <td>221.8646</td>\n",
       "    </tr>\n",
       "    <tr>\n",
       "      <th>2016-04-15</th>\n",
       "      <td>224.5742</td>\n",
       "      <td>1031018.0</td>\n",
       "      <td>223.4683</td>\n",
       "      <td>225.5917</td>\n",
       "      <td>220.3827</td>\n",
       "    </tr>\n",
       "    <tr>\n",
       "      <th>2016-04-18</th>\n",
       "      <td>222.9374</td>\n",
       "      <td>897291.0</td>\n",
       "      <td>223.2913</td>\n",
       "      <td>224.9060</td>\n",
       "      <td>222.3512</td>\n",
       "    </tr>\n",
       "  </tbody>\n",
       "</table>\n",
       "</div>"
      ],
      "text/plain": [
       "               close     volume      open      high       low\n",
       "date                                                         \n",
       "2016-04-12  221.4665  1213151.0  221.4775  223.6120  220.6370\n",
       "2016-04-13  224.1871  1299353.0  223.4019  226.7087  221.1015\n",
       "2016-04-14  222.0858  1178054.0  223.7890  224.5410  221.8646\n",
       "2016-04-15  224.5742  1031018.0  223.4683  225.5917  220.3827\n",
       "2016-04-18  222.9374   897291.0  223.2913  224.9060  222.3512"
      ]
     },
     "execution_count": 90,
     "metadata": {},
     "output_type": "execute_result"
    }
   ],
   "source": [
    "df.head()"
   ]
  },
  {
   "cell_type": "code",
   "execution_count": 91,
   "metadata": {},
   "outputs": [
    {
     "data": {
      "text/html": [
       "<div>\n",
       "<table border=\"1\" class=\"dataframe\">\n",
       "  <thead>\n",
       "    <tr style=\"text-align: right;\">\n",
       "      <th></th>\n",
       "      <th>close</th>\n",
       "      <th>volume</th>\n",
       "      <th>open</th>\n",
       "      <th>high</th>\n",
       "      <th>low</th>\n",
       "    </tr>\n",
       "    <tr>\n",
       "      <th>date</th>\n",
       "      <th></th>\n",
       "      <th></th>\n",
       "      <th></th>\n",
       "      <th></th>\n",
       "      <th></th>\n",
       "    </tr>\n",
       "  </thead>\n",
       "  <tbody>\n",
       "    <tr>\n",
       "      <th>2017-10-10</th>\n",
       "      <td>364.92</td>\n",
       "      <td>1111015.0</td>\n",
       "      <td>365.99</td>\n",
       "      <td>368.16</td>\n",
       "      <td>362.86</td>\n",
       "    </tr>\n",
       "    <tr>\n",
       "      <th>2017-10-11</th>\n",
       "      <td>365.12</td>\n",
       "      <td>1432621.0</td>\n",
       "      <td>364.06</td>\n",
       "      <td>366.97</td>\n",
       "      <td>361.03</td>\n",
       "    </tr>\n",
       "    <tr>\n",
       "      <th>2017-10-12</th>\n",
       "      <td>355.71</td>\n",
       "      <td>2592918.0</td>\n",
       "      <td>363.00</td>\n",
       "      <td>363.00</td>\n",
       "      <td>352.51</td>\n",
       "    </tr>\n",
       "    <tr>\n",
       "      <th>2017-10-13</th>\n",
       "      <td>194.59</td>\n",
       "      <td>15674800.0</td>\n",
       "      <td>193.55</td>\n",
       "      <td>195.00</td>\n",
       "      <td>191.65</td>\n",
       "    </tr>\n",
       "    <tr>\n",
       "      <th>2017-10-16</th>\n",
       "      <td>197.93</td>\n",
       "      <td>13972479.0</td>\n",
       "      <td>195.80</td>\n",
       "      <td>198.04</td>\n",
       "      <td>193.25</td>\n",
       "    </tr>\n",
       "  </tbody>\n",
       "</table>\n",
       "</div>"
      ],
      "text/plain": [
       "             close      volume    open    high     low\n",
       "date                                                  \n",
       "2017-10-10  364.92   1111015.0  365.99  368.16  362.86\n",
       "2017-10-11  365.12   1432621.0  364.06  366.97  361.03\n",
       "2017-10-12  355.71   2592918.0  363.00  363.00  352.51\n",
       "2017-10-13  194.59  15674800.0  193.55  195.00  191.65\n",
       "2017-10-16  197.93  13972479.0  195.80  198.04  193.25"
      ]
     },
     "execution_count": 91,
     "metadata": {},
     "output_type": "execute_result"
    }
   ],
   "source": [
    "df.tail()"
   ]
  },
  {
   "cell_type": "code",
   "execution_count": 64,
   "metadata": {},
   "outputs": [
    {
     "data": {
      "text/plain": [
       "close          190.94\n",
       "volume    13237700.00\n",
       "open           189.60\n",
       "high           191.00\n",
       "low            187.74\n",
       "Name: 2017-10-11 00:00:00, dtype: float64"
      ]
     },
     "execution_count": 64,
     "metadata": {},
     "output_type": "execute_result"
    }
   ],
   "source": [
    "df.loc['2017-10-11']"
   ]
  },
  {
   "cell_type": "code",
   "execution_count": 65,
   "metadata": {},
   "outputs": [
    {
     "data": {
      "text/plain": [
       "13237700.0"
      ]
     },
     "execution_count": 65,
     "metadata": {},
     "output_type": "execute_result"
    }
   ],
   "source": [
    "df.loc['2017-10-11']['volume']"
   ]
  },
  {
   "cell_type": "code",
   "execution_count": 66,
   "metadata": {},
   "outputs": [
    {
     "data": {
      "text/plain": [
       "13237703.0"
      ]
     },
     "execution_count": 66,
     "metadata": {},
     "output_type": "execute_result"
    }
   ],
   "source": [
    "df.loc['2017-10-11']['volume'] + 3"
   ]
  },
  {
   "cell_type": "code",
   "execution_count": null,
   "metadata": {
    "collapsed": true
   },
   "outputs": [],
   "source": []
  }
 ],
 "metadata": {
  "kernelspec": {
   "display_name": "Python 3",
   "language": "python",
   "name": "python3"
  },
  "language_info": {
   "codemirror_mode": {
    "name": "ipython",
    "version": 3
   },
   "file_extension": ".py",
   "mimetype": "text/x-python",
   "name": "python",
   "nbconvert_exporter": "python",
   "pygments_lexer": "ipython3",
   "version": "3.5.3"
  }
 },
 "nbformat": 4,
 "nbformat_minor": 2
}
