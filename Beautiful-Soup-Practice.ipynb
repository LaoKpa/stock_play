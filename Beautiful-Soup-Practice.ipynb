{
 "cells": [
  {
   "cell_type": "markdown",
   "metadata": {},
   "source": [
    "## Goal \n",
    " - Manually update the CSVs of a few stocks\n",
    " - Write a function to update a given CSV with that tickers data\n",
    "\n",
    "----------------\n",
    "\n",
    "### TODO\n",
    " - Think of scenarios where this might fail, and what I can reasonably do to combat this\n",
    " - Write and schedule procedure to scrape for all **stock_data** stocks Monday-Friday after close\n",
    " - Write and schedule procedure to scrape for all S&P 500 stocks Monday-Friday after close"
   ]
  },
  {
   "cell_type": "code",
   "execution_count": 1,
   "metadata": {
    "collapsed": true
   },
   "outputs": [],
   "source": [
    "from stock_utils import *"
   ]
  },
  {
   "cell_type": "code",
   "execution_count": 2,
   "metadata": {
    "collapsed": true
   },
   "outputs": [],
   "source": [
    "from bs4 import BeautifulSoup\n",
    "import requests\n",
    "import re"
   ]
  },
  {
   "cell_type": "markdown",
   "metadata": {},
   "source": [
    "### Yahoo"
   ]
  },
  {
   "cell_type": "code",
   "execution_count": 6,
   "metadata": {
    "collapsed": true
   },
   "outputs": [],
   "source": [
    "def update_CSV(path_to_csv, backup=False):\n",
    "    if backup is True:\n",
    "        raise ValueError('Not yet supported')\n",
    "        \n",
    "    ticker = ticker_from_csv(path_to_csv)\n",
    "        \n",
    "    ## Open Yahoo Finance data\n",
    "    url = \"https://finance.yahoo.com/quote/{sym}/history?p={sym}\".format(sym=ticker)\n",
    "    r = requests.get(url)\n",
    "    soup = BeautifulSoup(r.text, \"html.parser\")\n",
    "    \n",
    "    ## Store all rows of historical data for this stock in 'all_rows'\n",
    "    all_rows = []\n",
    "    historical_rows = soup.findAll('tr', attrs={'class':'BdT Bdc($c-fuji-grey-c) Ta(end) Fz(s) Whs(nw)'})\n",
    "    for row in historical_rows:\n",
    "        table_cells = row.findAll('td')\n",
    "        row_list = []\n",
    "        for cell in table_cells:\n",
    "            #print(cell.text.strip())\n",
    "            row_list.append(cell.text.strip())\n",
    "        all_rows.append(row_list)\n",
    "        \n",
    "    ## Add any days that are missing to the CSV\n",
    "    df = pd.DataFrame()\n",
    "    df = df.from_csv(path_to_csv)\n",
    "    \n",
    "    for i in range(len(all_rows)):\n",
    "        if pd.to_datetime(all_rows[i][0]) not in df.index:\n",
    "            s_close = all_rows[i][5]\n",
    "            s_volume = int(all_rows[i][6].replace(',', ''))\n",
    "            s_open = all_rows[i][1]\n",
    "            s_high = all_rows[i][2]\n",
    "            s_low = all_rows[i][3]\n",
    "            df.loc[pd.to_datetime(all_rows[i][0])] = [s_close, s_volume, s_open, s_high, s_low]\n",
    "      \n",
    "    df = df.sort_index(axis=0)\n",
    "    df.to_csv(path_to_csv)"
   ]
  },
  {
   "cell_type": "code",
   "execution_count": 17,
   "metadata": {
    "collapsed": true
   },
   "outputs": [],
   "source": [
    "def update_csv(arg):\n",
    "    update_CSV(arg)"
   ]
  },
  {
   "cell_type": "code",
   "execution_count": 7,
   "metadata": {},
   "outputs": [],
   "source": [
    "#update_CSV('stock_data/amd.csv')"
   ]
  },
  {
   "cell_type": "code",
   "execution_count": 16,
   "metadata": {},
   "outputs": [],
   "source": [
    "g = glob.glob('stock_data/*.csv')\n",
    "for file in g:\n",
    "    update_CSV(file)"
   ]
  }
 ],
 "metadata": {
  "kernelspec": {
   "display_name": "Python 3",
   "language": "python",
   "name": "python3"
  },
  "language_info": {
   "codemirror_mode": {
    "name": "ipython",
    "version": 3
   },
   "file_extension": ".py",
   "mimetype": "text/x-python",
   "name": "python",
   "nbconvert_exporter": "python",
   "pygments_lexer": "ipython3",
   "version": "3.5.3"
  }
 },
 "nbformat": 4,
 "nbformat_minor": 2
}
